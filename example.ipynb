{
 "cells": [
  {
   "cell_type": "code",
   "execution_count": 1,
   "metadata": {},
   "outputs": [],
   "source": [
    "import awesomeUnits.systems\n",
    "from awesomeUnits.variable import Variable"
   ]
  },
  {
   "cell_type": "code",
   "execution_count": 2,
   "metadata": {},
   "outputs": [],
   "source": [
    "awesomeUnits.systems.init()###must call init to select one system as \"default\""
   ]
  },
  {
   "cell_type": "code",
   "execution_count": 3,
   "metadata": {},
   "outputs": [
    {
     "name": "stdout",
     "output_type": "stream",
     "text": [
      "Distance is 6.000E+0 m\n",
      "Distance in km is 6.000E-3 km\n",
      "Summed distance is 6.500E+0 m\n",
      "Vel is 3.000E+0 m/s. In km/h 1.080E+1 km/h\n"
     ]
    }
   ],
   "source": [
    "distance = Variable(6.0, \"m\")\n",
    "\n",
    "print(f\"Distance is {distance}\")\n",
    "print(f\"Distance in km is {distance.convertTo('km')}\")\n",
    "\n",
    "summedDistance = distance + Variable(50, \"cm\")\n",
    "print(f\"Summed distance is {summedDistance}\")\n",
    "\n",
    "time = Variable(2.0, \"s\")\n",
    "\n",
    "vel = distance / time\n",
    "print(f\"Vel is {vel}. In km/h {vel.convertTo('km/h')}\")"
   ]
  },
  {
   "cell_type": "code",
   "execution_count": 4,
   "metadata": {},
   "outputs": [
    {
     "name": "stdout",
     "output_type": "stream",
     "text": [
      "Freedom distance 6.558E+0 yard. 1.967E+1 '\n"
     ]
    }
   ],
   "source": [
    "##correct units\n",
    "imperialSystem = awesomeUnits.systems.initCorrectSystem()\n",
    "\n",
    "freedomDistance = distance.toSystem(imperialSystem)\n",
    "freedomDistanceInFeet = freedomDistance.convertTo(\"'\")\n",
    "print(f\"Freedom distance {freedomDistance}. {freedomDistanceInFeet}\")"
   ]
  },
  {
   "cell_type": "code",
   "execution_count": null,
   "metadata": {},
   "outputs": [
    {
     "name": "stdout",
     "output_type": "stream",
     "text": [
      "Distance 3.023E+7 1/eV\n",
      "Vel in natural units (adimensional) 1.000E-8 1\n",
      "time 3.023E+15 1/eV/1\n"
     ]
    }
   ],
   "source": [
    "##natural units baby. Controlled in systems\n",
    "\n",
    "naturalUnits = awesomeUnits.systems.initNaturalUnits()\n",
    "\n",
    "distanceInNaturalUnits = distance.toSystem(naturalUnits)\n",
    "print(f\"Distance {distanceInNaturalUnits}\")\n",
    "\n",
    "velInNaturalUnits = vel.toSystem(naturalUnits)\n",
    "print(f\"Vel in natural units (adimensional) {velInNaturalUnits}\") ## adimensional (units are \"1\")\n",
    "\n",
    "print(f\"time {distanceInNaturalUnits / velInNaturalUnits}\")"
   ]
  },
  {
   "cell_type": "code",
   "execution_count": 6,
   "metadata": {},
   "outputs": [],
   "source": [
    "##MIRA UN BUG, PUEDES ARREGLARLO 😊"
   ]
  }
 ],
 "metadata": {
  "kernelspec": {
   "display_name": "venv",
   "language": "python",
   "name": "python3"
  },
  "language_info": {
   "codemirror_mode": {
    "name": "ipython",
    "version": 3
   },
   "file_extension": ".py",
   "mimetype": "text/x-python",
   "name": "python",
   "nbconvert_exporter": "python",
   "pygments_lexer": "ipython3",
   "version": "3.11.0"
  }
 },
 "nbformat": 4,
 "nbformat_minor": 2
}
